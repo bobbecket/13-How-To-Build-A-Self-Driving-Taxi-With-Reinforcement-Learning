{
 "cells": [
  {
   "cell_type": "markdown",
   "metadata": {},
   "source": [
    "### How To Build A Self-Driving Taxi With Reinforecement Learning\n",
    "\n",
    "Let's use \"reinforcement learning\" to train a self-driving on the most efficient routes for picking up and dropping off passengers.\n",
    "\n",
    "To start with, we'll create a \"driving area grid\" via the Python \"AI Gym\" library.\n",
    "\n",
    "KEY:\n",
    "\n",
    "- R/G/B/Y = Pickup / dropoff sites\n",
    "- BLUE letter = Pickup site\n",
    "- MAGENTA letter = Dropoff site\n",
    "- SOLID LINE = Wall taxi cannot cross\n",
    "- YELLOW-FILLED RECTANGLE = Empty taxi\n",
    "- GREEN-FILLED RECTANGLE = Filled taxi"
   ]
  },
  {
   "cell_type": "code",
   "execution_count": 6,
   "metadata": {},
   "outputs": [
    {
     "name": "stdout",
     "output_type": "stream",
     "text": [
      "+---------+\n",
      "|R: | : :G|\n",
      "| : :\u001b[43m \u001b[0m: : |\n",
      "| : : : : |\n",
      "| | : | : |\n",
      "|\u001b[34;1mY\u001b[0m| : |\u001b[35mB\u001b[0m: |\n",
      "+---------+\n",
      "\n"
     ]
    }
   ],
   "source": [
    "import gym\n",
    "import random\n",
    "\n",
    "random.seed(1234)\n",
    "\n",
    "streets = gym.make(\"Taxi-v2\").env\n",
    "streets.render()"
   ]
  },
  {
   "cell_type": "markdown",
   "metadata": {},
   "source": [
    "This 5x5 \"streets\" grid is defined by:\n",
    "\n",
    "- 25 possible taxi locations\n",
    "- 4 possible destinations\n",
    "- 5 possible passenger locations (either inside taxi or at one of the 4 destinations)\n",
    "\n",
    "This means that there are 25 x 4 x 5 = 500 possible grid \"states\", and each of these 500 states will be given a probability for taking one of the following 6 \"actions\":\n",
    "\n",
    "- Move NORTH\n",
    "- Move EAST\n",
    "- Move SOUTH\n",
    "- Move WEST\n",
    "- PICKUP Passenger\n",
    "- DROPOFF Passenger\n",
    "\n",
    "Let's use \"Q-Learning\" for our reinforcement learning algorithm and assign the following \"Quality\" points for each state:\n",
    "\n",
    "- CORRECT PICKUP / DROPOFF = +20 points\n",
    "- INCORRECT PICKUP / DROPOFF = -10 points\n",
    "- STEP TAKEN EN ROUTE TO DESTINATION = -1 point\n",
    "- STEP TAKEN ACROSS WALL = (not allowed)\n",
    "\n",
    "...establish the initial settings for our taxi:\n",
    "\n",
    "- Initial location: (2, 3)\n",
    "- Pickup location: 2\n",
    "- Destination location: 0\n",
    "\n",
    "...and examine the grid and \"reward table\" for this initial state."
   ]
  },
  {
   "cell_type": "code",
   "execution_count": 7,
   "metadata": {},
   "outputs": [
    {
     "name": "stdout",
     "output_type": "stream",
     "text": [
      "+---------+\n",
      "|\u001b[35mR\u001b[0m: | : :G|\n",
      "| : : : : |\n",
      "| : : :\u001b[43m \u001b[0m: |\n",
      "| | : | : |\n",
      "|\u001b[34;1mY\u001b[0m| : |B: |\n",
      "+---------+\n",
      "\n"
     ]
    },
    {
     "data": {
      "text/plain": [
       "{0: [(1.0, 368, -1, False)],\n",
       " 1: [(1.0, 168, -1, False)],\n",
       " 2: [(1.0, 288, -1, False)],\n",
       " 3: [(1.0, 248, -1, False)],\n",
       " 4: [(1.0, 268, -10, False)],\n",
       " 5: [(1.0, 268, -10, False)]}"
      ]
     },
     "execution_count": 7,
     "metadata": {},
     "output_type": "execute_result"
    }
   ],
   "source": [
    "initial_state = streets.encode(2, 3, 2, 0)\n",
    "streets.s = initial_state\n",
    "\n",
    "streets.render()\n",
    "streets.P[initial_state]"
   ]
  },
  {
   "cell_type": "markdown",
   "metadata": {},
   "source": [
    "The above array has 6 rows for each of our possible 6 actions (move N/S/E/W, pickup or dropoff), with each row containing:\n",
    "\n",
    "- Q value = The probability of taking this action\n",
    "- State number = 1 of our 500 possible states for this action\n",
    "- Q points = The reward / penalty for taking this action\n",
    "- Whether a successful dropoff takes place\n",
    "\n",
    "So, given this starting point, the first row shows that moving North would put the taxi into state number 368, substract 1 \"step taken\" penalty point, and does not result in a successful dropoff.\n",
    "\n",
    "Our next step is to train our taxi over 10,000 simulated runs. At each step, there will be a 10% chance of taking a random, exploratory step and a 90% chance of taking an action based on highest Q value."
   ]
  },
  {
   "cell_type": "code",
   "execution_count": 8,
   "metadata": {},
   "outputs": [],
   "source": [
    "import numpy as np\n",
    "\n",
    "q_table = np.zeros([streets.observation_space.n, streets.action_space.n])\n",
    "\n",
    "learning_rate = 0.1\n",
    "#learning_rate = 0.5\n",
    "discount_factor = 0.6\n",
    "exploration = 0.1\n",
    "#exploration = 0.5\n",
    "epochs = 10000\n",
    "\n",
    "for taxi_run in range(epochs):\n",
    "    state = streets.reset()\n",
    "    done = False\n",
    "    \n",
    "    while not done:\n",
    "        random_value = random.uniform(0, 1)\n",
    "        if (random_value < exploration):\n",
    "            action = streets.action_space.sample() # Explore a random action\n",
    "        else:\n",
    "            action = np.argmax(q_table[state]) # Use the action with the highest q-value\n",
    "            \n",
    "        next_state, reward, done, info = streets.step(action)\n",
    "        \n",
    "        prev_q = q_table[state, action]\n",
    "        next_max_q = np.max(q_table[next_state])\n",
    "        new_q = (1 - learning_rate) * prev_q + learning_rate * (reward + discount_factor * next_max_q)\n",
    "        q_table[state, action] = new_q\n",
    "        \n",
    "        state = next_state"
   ]
  },
  {
   "cell_type": "markdown",
   "metadata": {},
   "source": [
    "Now that we have a table of Q values for guiding our \"optimal next step\", let's look at the values for our initial state."
   ]
  },
  {
   "cell_type": "code",
   "execution_count": 9,
   "metadata": {},
   "outputs": [
    {
     "data": {
      "text/plain": [
       "array([-2.41254836, -2.41406562, -2.40893493, -2.3639511 , -8.08002866,\n",
       "       -7.27836681])"
      ]
     },
     "execution_count": 9,
     "metadata": {},
     "output_type": "execute_result"
    }
   ],
   "source": [
    "q_table[initial_state]"
   ]
  },
  {
   "cell_type": "markdown",
   "metadata": {},
   "source": [
    "The 4th value (Move WEST) is the highest value. This makes sense since moving West is our most direct path towards our destination from our initial state.\n",
    "\n",
    "Now let's animate the taxi's behavior given our learned Q values."
   ]
  },
  {
   "cell_type": "code",
   "execution_count": 10,
   "metadata": {},
   "outputs": [
    {
     "name": "stdout",
     "output_type": "stream",
     "text": [
      "Trip number 10 Step 9\n",
      "+---------+\n",
      "|R: | : :G|\n",
      "| : : : : |\n",
      "| : : : : |\n",
      "| | : | : |\n",
      "|\u001b[35m\u001b[34;1m\u001b[43mY\u001b[0m\u001b[0m\u001b[0m| : |B: |\n",
      "+---------+\n",
      "  (Dropoff)\n",
      "\n",
      "Average Steps Per Trip: 15.5\n"
     ]
    }
   ],
   "source": [
    "from IPython.display import clear_output\n",
    "from time import sleep\n",
    "\n",
    "#numTrips = 500\n",
    "numTrips = 10\n",
    "totalTripSteps = 0\n",
    "for tripnum in range(1, numTrips + 1):\n",
    "    state = streets.reset()\n",
    "   \n",
    "    done = False\n",
    "    trip_length = 0\n",
    "    \n",
    "    while not done and trip_length < 25:\n",
    "        action = np.argmax(q_table[state])\n",
    "        next_state, reward, done, info = streets.step(action)\n",
    "        clear_output(wait=True)\n",
    "        print(\"Trip number \" + str(tripnum) + \" Step \" + str(trip_length))\n",
    "        print(streets.render(mode='ansi'))\n",
    "        sleep(.5)\n",
    "        state = next_state\n",
    "        trip_length += 1\n",
    "    totalTripSteps += trip_length   \n",
    "    sleep(2)\n",
    "avgStepsPerTrip = totalTripSteps / numTrips\n",
    "print(\"Average Steps Per Trip: \" + str(avgStepsPerTrip))"
   ]
  }
 ],
 "metadata": {
  "kernelspec": {
   "display_name": "Python 3",
   "language": "python",
   "name": "python3"
  },
  "language_info": {
   "codemirror_mode": {
    "name": "ipython",
    "version": 3
   },
   "file_extension": ".py",
   "mimetype": "text/x-python",
   "name": "python",
   "nbconvert_exporter": "python",
   "pygments_lexer": "ipython3",
   "version": "3.7.3"
  }
 },
 "nbformat": 4,
 "nbformat_minor": 2
}
